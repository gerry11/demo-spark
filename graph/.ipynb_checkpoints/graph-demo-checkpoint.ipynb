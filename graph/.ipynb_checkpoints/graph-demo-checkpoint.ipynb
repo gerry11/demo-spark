{
 "cells": [
  {
   "cell_type": "code",
   "execution_count": 1,
   "metadata": {
    "ExecuteTime": {
     "end_time": "2020-02-08T08:58:19.108226Z",
     "start_time": "2020-02-08T08:58:14.192507Z"
    },
    "scrolled": true
   },
   "outputs": [],
   "source": [
    "import findspark\n",
    "findspark.init(\"D:/Anaconda3/Lib/site-packages/pyspark\")\n",
    "\n",
    "from pyspark import SparkContext\n",
    "import pyspark\n",
    "import os\n",
    "\n",
    "#print(\"test\")\n",
    "SUBMIT_ARGS = \"--packages graphframes:graphframes:0.7.0-spark2.4-s_2.11 pyspark-shell\"\n",
    "os.environ[\"PYSPARK_SUBMIT_ARGS\"] = SUBMIT_ARGS\n",
    "conf = pyspark.SparkConf()\n",
    "sc = pyspark.SparkContext(conf=conf)\n",
    "# print(sc._conf.getAll())\n",
    "\n",
    "from graphframes import *\n",
    "#import sys\n",
    "#pyfiles = str(sc.getConf().get(u'spark.submit.pyFiles')).split(',')\n",
    "#sys.path.extend(pyfiles)"
   ]
  },
  {
   "cell_type": "markdown",
   "metadata": {},
   "source": [
    "# init data"
   ]
  },
  {
   "cell_type": "code",
   "execution_count": 2,
   "metadata": {
    "ExecuteTime": {
     "end_time": "2020-02-08T08:58:36.311772Z",
     "start_time": "2020-02-08T08:58:33.809588Z"
    }
   },
   "outputs": [],
   "source": [
    "from pyspark import *\n",
    "from pyspark.sql import *\n",
    "spark = SparkSession.builder.appName('test').getOrCreate()\n",
    "vertices = spark.createDataFrame([('1', 'Tom'),\n",
    "                                  ('2', 'Jerry'),\n",
    "                                  ('3', 'Andy'),\n",
    "                                  ('4', 'Jeff'),\n",
    "                                  ('5', 'Hanks'),\n",
    "                                  ('6', 'Ben'),\n",
    "                                  ('7', 'David')],\n",
    "                                 ['id', 'name'])\n",
    "edges = spark.createDataFrame([('1', '2', 'friend'),\n",
    "                               ('2', '1', 'friend'),\n",
    "                               ('3', '1', 'friend'),\n",
    "                               ('1', '3', 'friend'),\n",
    "                               ('2', '3', 'follows'),\n",
    "                               ('3', '4', 'friend'),\n",
    "                               ('4', '3', 'friend'),\n",
    "                               ('5', '3', 'friend'),\n",
    "                               ('3', '5', 'friend'),\n",
    "                               ('4', '5', 'follows'),\n",
    "                               ('6', '7', 'friend'),\n",
    "                               ('7', '6', 'friend')],\n",
    "                              ['src', 'dst', 'type'])\n",
    "g = GraphFrame(vertices, edges)\n"
   ]
  },
  {
   "cell_type": "code",
   "execution_count": 11,
   "metadata": {
    "ExecuteTime": {
     "end_time": "2020-02-08T09:36:30.438013Z",
     "start_time": "2020-02-08T09:36:15.081386Z"
    }
   },
   "outputs": [
    {
     "name": "stdout",
     "output_type": "stream",
     "text": [
      "+---+-----+\n",
      "| id| name|\n",
      "+---+-----+\n",
      "|  1|  Tom|\n",
      "|  2|Jerry|\n",
      "|  3| Andy|\n",
      "|  4| Jeff|\n",
      "|  5|Hanks|\n",
      "|  6|  Ben|\n",
      "|  7|David|\n",
      "+---+-----+\n",
      "\n",
      "+---+---+-------+\n",
      "|src|dst|   type|\n",
      "+---+---+-------+\n",
      "|  1|  2| friend|\n",
      "|  2|  1| friend|\n",
      "|  3|  1| friend|\n",
      "|  1|  3| friend|\n",
      "|  2|  3|follows|\n",
      "|  3|  4| friend|\n",
      "|  4|  3| friend|\n",
      "|  5|  3| friend|\n",
      "|  3|  5| friend|\n",
      "|  4|  5|follows|\n",
      "|  6|  7| friend|\n",
      "|  7|  6| friend|\n",
      "+---+---+-------+\n",
      "\n",
      "+---+------+\n",
      "| id|degree|\n",
      "+---+------+\n",
      "|  7|     2|\n",
      "|  3|     7|\n",
      "|  5|     3|\n",
      "|  6|     2|\n",
      "|  1|     4|\n",
      "|  4|     3|\n",
      "|  2|     3|\n",
      "+---+------+\n",
      "\n",
      "+---+--------+\n",
      "| id|inDegree|\n",
      "+---+--------+\n",
      "|  7|       1|\n",
      "|  3|       4|\n",
      "|  5|       2|\n",
      "|  6|       1|\n",
      "|  1|       2|\n",
      "|  4|       1|\n",
      "|  2|       1|\n",
      "+---+--------+\n",
      "\n"
     ]
    }
   ],
   "source": [
    "# View the graphframe\n",
    "g.vertices.show()\n",
    "g.edges.show()\n",
    "# Check the number of edges of each vertex\n",
    "g.degrees.show()\n",
    "g.inDegrees.show()"
   ]
  },
  {
   "cell_type": "code",
   "execution_count": 3,
   "metadata": {
    "ExecuteTime": {
     "end_time": "2020-02-08T08:58:52.598753Z",
     "start_time": "2020-02-08T08:58:46.801825Z"
    }
   },
   "outputs": [
    {
     "name": "stdout",
     "output_type": "stream",
     "text": [
      "+---+--------+\n",
      "| id|inDegree|\n",
      "+---+--------+\n",
      "|  3|       4|\n",
      "|  5|       2|\n",
      "|  1|       2|\n",
      "+---+--------+\n",
      "\n"
     ]
    }
   ],
   "source": [
    "g.inDegrees.filter(\"inDegree >= 2\").sort(\"inDegree\", ascending=False).show()\n",
    "#g.edges.filter('type == \"friend\"').show()"
   ]
  },
  {
   "cell_type": "markdown",
   "metadata": {},
   "source": [
    " # Functions"
   ]
  },
  {
   "cell_type": "code",
   "execution_count": 9,
   "metadata": {
    "ExecuteTime": {
     "end_time": "2020-02-08T09:25:21.681284Z",
     "start_time": "2020-02-08T09:24:37.090250Z"
    }
   },
   "outputs": [
    {
     "name": "stdout",
     "output_type": "stream",
     "text": [
      "+---+------------+\n",
      "| id|       label|\n",
      "+---+------------+\n",
      "|  6| 25769803776|\n",
      "|  1|154618822656|\n",
      "|  4|154618822656|\n",
      "|  5|154618822656|\n",
      "|  2|420906795008|\n",
      "|  3|420906795008|\n",
      "|  7|644245094400|\n",
      "+---+------------+\n",
      "\n"
     ]
    }
   ],
   "source": [
    "result = g.labelPropagation(maxIter=5)\n",
    "result.select(\"id\", \"label\").sort('label').show()"
   ]
  },
  {
   "cell_type": "code",
   "execution_count": 10,
   "metadata": {
    "ExecuteTime": {
     "end_time": "2020-02-08T09:26:16.891225Z",
     "start_time": "2020-02-08T09:25:30.011004Z"
    },
    "scrolled": true
   },
   "outputs": [
    {
     "name": "stdout",
     "output_type": "stream",
     "text": [
      "+---+------------+\n",
      "| id|   component|\n",
      "+---+------------+\n",
      "|  6| 25769803776|\n",
      "|  7| 25769803776|\n",
      "|  2|154618822656|\n",
      "|  1|154618822656|\n",
      "|  4|154618822656|\n",
      "|  3|154618822656|\n",
      "|  5|154618822656|\n",
      "+---+------------+\n",
      "\n"
     ]
    }
   ],
   "source": [
    "cc = g.stronglyConnectedComponents(maxIter=10)\n",
    "cc.select(\"id\", \"component\").orderBy(\"component\").show()"
   ]
  },
  {
   "cell_type": "code",
   "execution_count": 12,
   "metadata": {
    "ExecuteTime": {
     "end_time": "2020-02-08T09:37:10.804456Z",
     "start_time": "2020-02-08T09:36:46.170004Z"
    }
   },
   "outputs": [
    {
     "name": "stdout",
     "output_type": "stream",
     "text": [
      "+---+---------+\n",
      "| id|distances|\n",
      "+---+---------+\n",
      "|  1| [2 -> 1]|\n",
      "|  3| [2 -> 2]|\n",
      "|  2| [2 -> 0]|\n",
      "|  4| [2 -> 3]|\n",
      "|  7| [6 -> 1]|\n",
      "|  6| [6 -> 0]|\n",
      "|  5| [2 -> 3]|\n",
      "+---+---------+\n",
      "\n"
     ]
    }
   ],
   "source": [
    "results = g.shortestPaths(landmarks=[\"2\",\"6\"])\n",
    "results.select(\"id\", \"distances\").show()"
   ]
  },
  {
   "cell_type": "code",
   "execution_count": 13,
   "metadata": {
    "ExecuteTime": {
     "end_time": "2020-02-08T09:45:28.838515Z",
     "start_time": "2020-02-08T09:45:14.019432Z"
    }
   },
   "outputs": [
    {
     "name": "stdout",
     "output_type": "stream",
     "text": [
      "+----------+--------------+----------+--------------+\n",
      "|         a|             e|         b|            e2|\n",
      "+----------+--------------+----------+--------------+\n",
      "|  [6, Ben]|[6, 7, friend]|[7, David]|[7, 6, friend]|\n",
      "|[2, Jerry]|[2, 1, friend]|  [1, Tom]|[1, 2, friend]|\n",
      "| [3, Andy]|[3, 5, friend]|[5, Hanks]|[5, 3, friend]|\n",
      "|  [1, Tom]|[1, 3, friend]| [3, Andy]|[3, 1, friend]|\n",
      "| [3, Andy]|[3, 1, friend]|  [1, Tom]|[1, 3, friend]|\n",
      "|[7, David]|[7, 6, friend]|  [6, Ben]|[6, 7, friend]|\n",
      "|[5, Hanks]|[5, 3, friend]| [3, Andy]|[3, 5, friend]|\n",
      "| [4, Jeff]|[4, 3, friend]| [3, Andy]|[3, 4, friend]|\n",
      "|  [1, Tom]|[1, 2, friend]|[2, Jerry]|[2, 1, friend]|\n",
      "| [3, Andy]|[3, 4, friend]| [4, Jeff]|[4, 3, friend]|\n",
      "+----------+--------------+----------+--------------+\n",
      "\n"
     ]
    }
   ],
   "source": [
    "g.find(\"(a)-[e]->(b); (b)-[e2]->(a)\").show()"
   ]
  },
  {
   "cell_type": "code",
   "execution_count": 14,
   "metadata": {
    "ExecuteTime": {
     "end_time": "2020-02-08T09:46:11.707135Z",
     "start_time": "2020-02-08T09:45:42.586493Z"
    }
   },
   "outputs": [
    {
     "name": "stdout",
     "output_type": "stream",
     "text": [
      "+----------+---------+----------+\n",
      "|         a|        b|         c|\n",
      "+----------+---------+----------+\n",
      "|  [1, Tom]|[3, Andy]|[5, Hanks]|\n",
      "| [3, Andy]| [1, Tom]|[2, Jerry]|\n",
      "| [4, Jeff]|[3, Andy]|[5, Hanks]|\n",
      "|[5, Hanks]|[3, Andy]| [4, Jeff]|\n",
      "|[2, Jerry]| [1, Tom]| [3, Andy]|\n",
      "|[5, Hanks]|[3, Andy]|  [1, Tom]|\n",
      "| [4, Jeff]|[3, Andy]|  [1, Tom]|\n",
      "|  [1, Tom]|[3, Andy]| [4, Jeff]|\n",
      "+----------+---------+----------+\n",
      "\n"
     ]
    }
   ],
   "source": [
    "mutualFriends = g.find(\"(a)-[]->(b); (b)-[]->(c); (c)-[]->(b); (b)-[]->(a)\")\\\n",
    "    .filter('a!=c')\\\n",
    "    .dropDuplicates()\n",
    "mutualFriends.show()"
   ]
  },
  {
   "cell_type": "code",
   "execution_count": 15,
   "metadata": {
    "ExecuteTime": {
     "end_time": "2020-02-08T09:51:35.129824Z",
     "start_time": "2020-02-08T09:51:03.809602Z"
    }
   },
   "outputs": [
    {
     "name": "stdout",
     "output_type": "stream",
     "text": [
      "+-----+---+-----+\n",
      "|count| id| name|\n",
      "+-----+---+-----+\n",
      "|    1|  1|  Tom|\n",
      "|    1|  2|Jerry|\n",
      "|    2|  3| Andy|\n",
      "|    1|  4| Jeff|\n",
      "|    1|  5|Hanks|\n",
      "|    0|  6|  Ben|\n",
      "|    0|  7|David|\n",
      "+-----+---+-----+\n",
      "\n"
     ]
    }
   ],
   "source": [
    "g.triangleCount().sort('id').show()"
   ]
  },
  {
   "cell_type": "code",
   "execution_count": 16,
   "metadata": {
    "ExecuteTime": {
     "end_time": "2020-02-08T09:54:21.912858Z",
     "start_time": "2020-02-08T09:52:46.290170Z"
    }
   },
   "outputs": [
    {
     "name": "stdout",
     "output_type": "stream",
     "text": [
      "+---+-----+------------------+\n",
      "| id| name|          pagerank|\n",
      "+---+-----+------------------+\n",
      "|  1|  Tom|0.9055074972891306|\n",
      "|  3| Andy|1.8539196427388125|\n",
      "|  2|Jerry| 0.537796799947492|\n",
      "|  4| Jeff|0.6873519241384105|\n",
      "|  7|David|1.0225331112091935|\n",
      "|  6|  Ben|1.0225331112091935|\n",
      "|  5|Hanks|0.9703579134677661|\n",
      "+---+-----+------------------+\n",
      "\n",
      "+---+---+-------+------------------+\n",
      "|src|dst|   type|            weight|\n",
      "+---+---+-------+------------------+\n",
      "|  1|  2| friend|               0.5|\n",
      "|  1|  3| friend|               0.5|\n",
      "|  7|  6| friend|               1.0|\n",
      "|  4|  5|follows|               0.5|\n",
      "|  5|  3| friend|               1.0|\n",
      "|  3|  5| friend|0.3333333333333333|\n",
      "|  4|  3| friend|               0.5|\n",
      "|  2|  1| friend|               0.5|\n",
      "|  3|  4| friend|0.3333333333333333|\n",
      "|  6|  7| friend|               1.0|\n",
      "|  3|  1| friend|0.3333333333333333|\n",
      "|  2|  3|follows|               0.5|\n",
      "+---+---+-------+------------------+\n",
      "\n"
     ]
    }
   ],
   "source": [
    "pr = g.pageRank(resetProbability=0.15, tol=0.01)\n",
    "pr.vertices.show()\n",
    "pr.edges.show()"
   ]
  },
  {
   "cell_type": "code",
   "execution_count": null,
   "metadata": {},
   "outputs": [],
   "source": []
  }
 ],
 "metadata": {
  "kernelspec": {
   "display_name": "Python 3",
   "language": "python",
   "name": "python3"
  },
  "language_info": {
   "codemirror_mode": {
    "name": "ipython",
    "version": 3
   },
   "file_extension": ".py",
   "mimetype": "text/x-python",
   "name": "python",
   "nbconvert_exporter": "python",
   "pygments_lexer": "ipython3",
   "version": "3.7.3"
  },
  "toc": {
   "base_numbering": 1,
   "nav_menu": {},
   "number_sections": true,
   "sideBar": true,
   "skip_h1_title": false,
   "title_cell": "Table of Contents",
   "title_sidebar": "Contents",
   "toc_cell": false,
   "toc_position": {},
   "toc_section_display": true,
   "toc_window_display": false
  },
  "varInspector": {
   "cols": {
    "lenName": 16,
    "lenType": 16,
    "lenVar": 40
   },
   "kernels_config": {
    "python": {
     "delete_cmd_postfix": "",
     "delete_cmd_prefix": "del ",
     "library": "var_list.py",
     "varRefreshCmd": "print(var_dic_list())"
    },
    "r": {
     "delete_cmd_postfix": ") ",
     "delete_cmd_prefix": "rm(",
     "library": "var_list.r",
     "varRefreshCmd": "cat(var_dic_list()) "
    }
   },
   "types_to_exclude": [
    "module",
    "function",
    "builtin_function_or_method",
    "instance",
    "_Feature"
   ],
   "window_display": false
  }
 },
 "nbformat": 4,
 "nbformat_minor": 4
}
